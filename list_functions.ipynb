{
 "cells": [
  {
   "cell_type": "code",
   "execution_count": null,
   "id": "1a7f020d-65fe-400d-a433-72c1c7fcf680",
   "metadata": {},
   "outputs": [],
   "source": [
    "'''\n",
    "Faith Burgette\n",
    "SDEV 220\n",
    "7.4\n",
    "'''\n",
    "\n",
    "#create list with 3 strings\n",
    "things = ['mozzarella', 'cinderella', 'salmonella']"
   ]
  },
  {
   "cell_type": "code",
   "execution_count": null,
   "id": "a504b43e-c4ba-4c57-ae64-9b731c154b66",
   "metadata": {},
   "outputs": [],
   "source": [
    "'''\n",
    "Faith Burgette\n",
    "SDEV 220\n",
    "7.5\n",
    "'''\n",
    "\n",
    "#create list with 3 strings\n",
    "things = ['mozzarella', 'cinderella', 'salmonella']\n",
    "\n",
    "#capitalize cinderella\n",
    "things[1] = things[1].capitalize()\n",
    "\n",
    "#check\n",
    "print(things)"
   ]
  },
  {
   "cell_type": "code",
   "execution_count": null,
   "id": "844a761b-f7a8-48b9-903d-3f14bd32ecf1",
   "metadata": {},
   "outputs": [],
   "source": [
    "'''\n",
    "Faith Burgette\n",
    "SDEV 220\n",
    "7.6\n",
    "'''\n",
    "\n",
    "#create list with 3 strings\n",
    "things = ['mozzarella', 'cinderella', 'salmonella']\n",
    "\n",
    "#capitalize cinderella\n",
    "things[1] = things[1].capitalize()\n",
    "\n",
    "#completely capitalize mozz\n",
    "things[0] = things[0].upper()\n",
    "\n",
    "#check\n",
    "print(things)"
   ]
  },
  {
   "cell_type": "code",
   "execution_count": null,
   "id": "e8717d97-0427-4402-9f8f-98cf8cbfc75f",
   "metadata": {},
   "outputs": [],
   "source": [
    "'''\n",
    "Faith Burgette\n",
    "SDEV 220\n",
    "7.7\n",
    "'''\n",
    "#create list with 3 strings\n",
    "things = ['mozzarella', 'cinderella', 'salmonella']\n",
    "\n",
    "#capitalize cinderella\n",
    "things[1] = things[1].capitalize()\n",
    "\n",
    "#completely capitalize mozz\n",
    "things[0] = things[0].upper()\n",
    "\n",
    "#delete disease\n",
    "del things[2]\n",
    "\n",
    "#check\n",
    "print(things)"
   ]
  },
  {
   "cell_type": "code",
   "execution_count": null,
   "id": "3cab13fb-15dd-4956-83e5-f0f1e67939dd",
   "metadata": {},
   "outputs": [],
   "source": [
    "'''\n",
    "Faith Burgette\n",
    "SDEV 220\n",
    "9.1\n",
    "'''\n",
    "#create function\n",
    "def good():\n",
    "    harrypotter = ['Harry', 'Ron', 'Hermione']\n",
    "    return harrypotter\n",
    "#call function\n",
    "print(good())"
   ]
  },
  {
   "cell_type": "code",
   "execution_count": null,
   "id": "c98f0eff-a9c8-4bcc-be8a-96b108982b33",
   "metadata": {},
   "outputs": [],
   "source": [
    "'''\n",
    "Faith Burgette\n",
    "SDEV 220\n",
    "9.2\n",
    "'''\n",
    "#create function\n",
    "def get_odds():\n",
    "    for num in range(10):\n",
    "        if num % 2 != 0:\n",
    "            yield num\n",
    "\n",
    "gennum = get_odds() #generating numbers\n",
    "\n",
    "for odd in range(3):\n",
    "    third = next(gennum)\n",
    "\n",
    "#print 3rd odd num\n",
    "print(third)"
   ]
  }
 ],
 "metadata": {
  "kernelspec": {
   "display_name": "Python [conda env:base] *",
   "language": "python",
   "name": "conda-base-py"
  },
  "language_info": {
   "codemirror_mode": {
    "name": "ipython",
    "version": 3
   },
   "file_extension": ".py",
   "mimetype": "text/x-python",
   "name": "python",
   "nbconvert_exporter": "python",
   "pygments_lexer": "ipython3",
   "version": "3.12.7"
  }
 },
 "nbformat": 4,
 "nbformat_minor": 5
}
