{
 "cells": [
  {
   "cell_type": "code",
   "execution_count": null,
   "id": "8e6988dc-e601-45be-b236-d5c055ff1ecb",
   "metadata": {},
   "outputs": [],
   "source": [
    "sort an array\n",
    "\n",
    "class Solution:\n",
    "    # Function to sort an array of 0s, 1s, and 2s\n",
    "    def sort012(self, arr):\n",
    "        # code here\n",
    "        n = len(arr)\n",
    "        lo = 0 \n",
    "        hi = n - 1\n",
    "        mid = 0\n",
    "        \n",
    "        while mid <= hi:\n",
    "            if arr[mid] == 0:\n",
    "                arr[lo], arr[mid], =arr[mid], arr[lo]\n",
    "                lo = lo + 1\n",
    "                mid = mid + 1\n",
    "                \n",
    "            elif arr[mid] == 1:\n",
    "                mid = mid + 1\n",
    "            \n",
    "            else:\n",
    "                arr[mid], arr[hi] = arr[hi], arr[mid]\n",
    "                hi = hi - 1\n",
    "        return arr\n"
   ]
  },
  {
   "cell_type": "code",
   "execution_count": null,
   "id": "c2fef17c-2edd-475e-a94b-6637e32c1428",
   "metadata": {},
   "outputs": [],
   "source": [
    "binary search \n",
    "\n",
    "class Solution:\n",
    "    def binarysearch(self, arr, k):\n",
    "        # placement of each side and mid point\n",
    "        low = 0 \n",
    "        high = len(arr) - 1\n",
    "        result = -1\n",
    "        \n",
    "        while low <= high:\n",
    "            mid = (low + high) // 2\n",
    "            \n",
    "            if arr[mid] == k:\n",
    "                result = mid\n",
    "                high = mid - 1\n",
    "\n",
    "            elif arr[mid] < k:\n",
    "                low = mid + 1\n",
    "            else:\n",
    "                high = mid - 1\n",
    "        return result"
   ]
  }
 ],
 "metadata": {
  "kernelspec": {
   "display_name": "Python [conda env:base] *",
   "language": "python",
   "name": "conda-base-py"
  },
  "language_info": {
   "codemirror_mode": {
    "name": "ipython",
    "version": 3
   },
   "file_extension": ".py",
   "mimetype": "text/x-python",
   "name": "python",
   "nbconvert_exporter": "python",
   "pygments_lexer": "ipython3",
   "version": "3.12.7"
  }
 },
 "nbformat": 4,
 "nbformat_minor": 5
}
